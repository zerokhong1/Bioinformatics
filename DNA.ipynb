{
 "cells": [
  {
   "cell_type": "markdown",
   "metadata": {},
   "source": [
    "### Python in DNA"
   ]
  },
  {
   "cell_type": "markdown",
   "metadata": {},
   "source": [
    "# Print the length"
   ]
  },
  {
   "cell_type": "code",
   "execution_count": 1,
   "metadata": {},
   "outputs": [
    {
     "name": "stdout",
     "output_type": "stream",
     "text": [
      "540\n"
     ]
    }
   ],
   "source": [
    "ori = \"ATCAATGATCAACGTAAGCTTCTAAGCATGATCAAGGTGCTCACACAGTTTATCCACAACCTGAGTGGATGACATCAAGATAGGTCGTTGTATCTCCTTCCTCTCGTACTCTCATGACCACGGAAAGATGATCAAGAGAGGATGATTTCTTGGCCATATCGCAATGAATACTTGTGACTTGTGCTTCCAATTGACATCTTCAGCGCCATATTGCGCTGGCCAAGGTGACGGAGCGGGATTACGAAAGCATGATCATGGCTGTTGTTCTGTTTATCTTGTTTTGACTGAGACTTGTTAGGATAGACGGTTTTTCATCACTGACTAGCCAAAGCCTTACTCTGCCTGACATCGACCGTAAATTGATAATGAATTTACATGCTTCCGCGACGATTTACCTCTTGATCATCGATCCGATTGAAGATCTTCAATTGTTAATTCTCTTGCCTCGACTCATAGCCATGATGAGCTCTTGATCATGTTTCCTTAACCCTCTATTTTTTACGGAAGAATGATCAAGCTGCTGCTCTTGATCATCGTTTC\"\n",
    "# Then, print the length of ori\n",
    "print(len(ori))"
   ]
  },
  {
   "cell_type": "markdown",
   "metadata": {},
   "source": [
    "# PatternCount"
   ]
  },
  {
   "cell_type": "code",
   "execution_count": 2,
   "metadata": {},
   "outputs": [],
   "source": [
    "def PatternCount(Text, Pattern):\n",
    "    # fill in your function here\n",
    "    count = 0\n",
    "    for i in range(len(Text)-len(Pattern)+1):\n",
    "        if Text[i:i+len(Pattern)] == Pattern:\n",
    "            count = count+1\n",
    "    return count \n"
   ]
  },
  {
   "cell_type": "markdown",
   "metadata": {},
   "source": [
    "Example"
   ]
  },
  {
   "cell_type": "code",
   "execution_count": 4,
   "metadata": {},
   "outputs": [
    {
     "name": "stdout",
     "output_type": "stream",
     "text": [
      "8\n"
     ]
    }
   ],
   "source": [
    "def PatternCount(Text, Pattern):\n",
    "    # fill in your function here\n",
    "    count = 0\n",
    "    for i in range(len(Text)-len(Pattern)+1):\n",
    "        if Text[i:i+len(Pattern)] == Pattern:\n",
    "            count = count+1\n",
    "    return count \n",
    "# Now, we will set Text equal to the oriC of Vibrio cholerae and Pattern equal to \"TGATCA\"\n",
    "Text = \"ATCAATGATCAACGTAAGCTTCTAAGCATGATCAAGGTGCTCACACAGTTTATCCACAACCTGAGTGGATGACATCAAGATAGGTCGTTGTATCTCCTTCCTCTCGTACTCTCATGACCACGGAAAGATGATCAAGAGAGGATGATTTCTTGGCCATATCGCAATGAATACTTGTGACTTGTGCTTCCAATTGACATCTTCAGCGCCATATTGCGCTGGCCAAGGTGACGGAGCGGGATTACGAAAGCATGATCATGGCTGTTGTTCTGTTTATCTTGTTTTGACTGAGACTTGTTAGGATAGACGGTTTTTCATCACTGACTAGCCAAAGCCTTACTCTGCCTGACATCGACCGTAAATTGATAATGAATTTACATGCTTCCGCGACGATTTACCTCTTGATCATCGATCCGATTGAAGATCTTCAATTGTTAATTCTCTTGCCTCGACTCATAGCCATGATGAGCTCTTGATCATGTTTCCTTAACCCTCTATTTTTTACGGAAGAATGATCAAGCTGCTGCTCTTGATCATCGTTTC\"\n",
    "Pattern = \"TGATCA\"\n",
    "\n",
    "# Finally, let's print the result of calling PatternCount on Text and Pattern.\n",
    "print(PatternCount(Text, Pattern))"
   ]
  },
  {
   "cell_type": "markdown",
   "metadata": {},
   "source": [
    "# Generate the beginning of a frequency map, it remains to range a sliding window of length k through the text again"
   ]
  },
  {
   "cell_type": "markdown",
   "metadata": {},
   "source": [
    "Sample Input:\n",
    "\n",
    "3\n",
    "CGATATATCCATAG\n",
    "\n",
    "Sample Output:\n",
    "\n",
    "{'CGA': 1, 'GAT': 1, 'ATA': 3, 'TAT': 2, 'ATC': 1, 'TCC': 1, 'CCA': 1, 'CAT': 1, 'TAG': 1}"
   ]
  },
  {
   "cell_type": "code",
   "execution_count": 5,
   "metadata": {},
   "outputs": [],
   "source": [
    "# Insert your completed FrequencyMap() function here.\n",
    "def FrequencyMap(Text, k):\n",
    "    # your code here\n",
    "    freq = {}\n",
    "    n = len(Text)\n",
    "    for i in range(n-k+1):\n",
    "        Pattern = Text[i:i+k]\n",
    "        if Pattern not in freq:\n",
    "            freq[Pattern] = 1\n",
    "        else:\n",
    "            freq[Pattern] += 1\n",
    "    return freq\n"
   ]
  },
  {
   "cell_type": "markdown",
   "metadata": {},
   "source": [
    "# Find every key in the frequency map whose corresponding value is equal to the maximum m"
   ]
  },
  {
   "cell_type": "code",
   "execution_count": 6,
   "metadata": {},
   "outputs": [],
   "source": [
    "# Input:  A string Text and an integer k\n",
    "# Output: A list containing all most frequent k-mers in Text\n",
    "def FrequencyMap(Text, k):\n",
    "    freq = {}\n",
    "    n = len(Text)\n",
    "    for i in range(n - k + 1):\n",
    "        kmer = Text[i:i + k]\n",
    "        if kmer in freq:\n",
    "            freq[kmer] += 1\n",
    "        else:\n",
    "            freq[kmer] = 1\n",
    "    return freq\n",
    "\n",
    "def FrequentWords(Text, k):\n",
    "    words = []\n",
    "    freq = FrequencyMap(Text, k)\n",
    "    m = max(freq.values())\n",
    "    for key in freq:\n",
    "        if freq[key] == m:\n",
    "            words.append(key)\n",
    "    return words"
   ]
  },
  {
   "cell_type": "markdown",
   "metadata": {},
   "source": [
    "Example"
   ]
  },
  {
   "cell_type": "code",
   "execution_count": 7,
   "metadata": {},
   "outputs": [
    {
     "name": "stdout",
     "output_type": "stream",
     "text": [
      "['AGG']\n"
     ]
    }
   ],
   "source": [
    "# Copy your FrequentWords function from the previous step below this line\n",
    "def FrequencyMap(Text, k):\n",
    "    freq = {}\n",
    "    n = len(Text)\n",
    "    for i in range(n-k+1):\n",
    "        Pattern = Text[i:i+k]\n",
    "        if Pattern not in freq:\n",
    "            freq[Pattern] = 1\n",
    "        else:\n",
    "            freq[Pattern] += 1\n",
    "    return freq\n",
    "\n",
    "def FrequentWords(Text, k):\n",
    "    words = []\n",
    "    freq = FrequencyMap(Text, k)\n",
    "    m = max(freq.values())\n",
    "    for key in freq:\n",
    "        if freq[key] == m:\n",
    "            words.append(key)\n",
    "    return words\n",
    "# Now, we will set Text equal to the oriC of Vibrio cholerae and Pattern equal to \"TGATCA\"\n",
    "Text = \"CGGAGGACTCTAGGTAACGCTTATCAGGTCCATAGGACATTCA\"\n",
    "k = 3\n",
    "\n",
    "# Finally, let's print the result of calling FrequentWords on Text and Pattern.\n",
    "print(FrequentWords(Text, k))"
   ]
  },
  {
   "cell_type": "markdown",
   "metadata": {},
   "source": [
    "# Write a function Reverse() that takes a string Pattern and returns a string formed by reversing all the letters of Pattern.  Recall that for strings x, y, and z, the notation z=x+y concatenates x and y together into the variable z."
   ]
  },
  {
   "cell_type": "code",
   "execution_count": 8,
   "metadata": {},
   "outputs": [],
   "source": [
    "# Input:  A string Pattern\n",
    "# Output: The reverse of Pattern\n",
    "def Reverse(Pattern):\n",
    "    # your code here\n",
    "    rev = ''\n",
    "    for char in Pattern:\n",
    "        rev = char + rev\n",
    "    return rev\n",
    "        "
   ]
  },
  {
   "cell_type": "markdown",
   "metadata": {},
   "source": [
    "# Write a function Complement() that takes a DNA string Pattern and returns a string formed by taking the complement of each letter of Pattern (don't reverse the string yet)."
   ]
  },
  {
   "cell_type": "code",
   "execution_count": 9,
   "metadata": {},
   "outputs": [],
   "source": [
    "# Input:  A DNA string Pattern\n",
    "# Output: The complementary string of Pattern (with every nucleotide replaced by its complement).\n",
    "def Complement(Pattern):\n",
    "    # your code here\n",
    "    comp =''\n",
    "    for char in Pattern:\n",
    "        if char == 'A':\n",
    "            char = char.replace('A','T')\n",
    "        elif char == 'T':\n",
    "            char = char.replace('T','A')\n",
    "        elif char == 'C':\n",
    "            char = char.replace('C','G')\n",
    "        elif char == 'G':\n",
    "            char = char.replace('G','C')\n",
    "        comp += char\n",
    "    return comp"
   ]
  },
  {
   "cell_type": "markdown",
   "metadata": {},
   "source": [
    "#  Write a function ReverseComplement() to solve the Reverse Complement Problem, which is reproduced below. (Remember that we have already given you this code at the beginning of the module.) Then add ReverseComplement (and its needed subroutines) to Replication.py."
   ]
  },
  {
   "cell_type": "code",
   "execution_count": 10,
   "metadata": {},
   "outputs": [],
   "source": [
    "# Input:  A DNA string Pattern\n",
    "# Output: The reverse complement of Pattern\n",
    "def ReverseComplement(Pattern):   \n",
    "    # your code here\n",
    "    Pattern = Reverse(Pattern)\n",
    "    Pattern = Complement(Pattern)\n",
    "    return Pattern\n",
    "# Copy your Reverse() function here.\n",
    "def Reverse(Pattern):\n",
    "    # your code here\n",
    "    rev = ''\n",
    "    for char in Pattern:\n",
    "        rev = char + rev\n",
    "    return rev\n",
    "# Copy your Complement() function here.\n",
    "def Complement(Pattern):\n",
    "    # your code here\n",
    "    complement_dict = {}\n",
    "    complement_dict['A'] = 'T'\n",
    "    complement_dict['T'] = 'A'\n",
    "    complement_dict['C'] = 'G'\n",
    "    complement_dict['G'] = 'C'\n",
    "    \n",
    "    complement = ''\n",
    "    for i in Pattern:\n",
    "        complement += complement_dict[i]\n",
    "    \n",
    "    return complement"
   ]
  },
  {
   "cell_type": "markdown",
   "metadata": {},
   "source": [
    "# Write a function PatternMatching that solves the Pattern Matching Problem. Then add PatternMatching to Replication.py.\n",
    "\n",
    "Sample Input:\n",
    "\n",
    "ATAT\n",
    "\n",
    "GATATATGCATATACTT\n",
    "\n",
    "Sample Output:\n",
    "\n",
    "1 3 9"
   ]
  },
  {
   "cell_type": "code",
   "execution_count": 11,
   "metadata": {},
   "outputs": [],
   "source": [
    "# fill in your PatternMatching() function along with any subroutines that you need.\n",
    "def PatternMatching(Pattern, Genome):\n",
    "    positions = [] # output variable\n",
    "    Pattern_length = len(Pattern)\n",
    "    Genome_length = len(Genome)\n",
    "    for mat_pat in range(Genome_length - Pattern_length + 1):\n",
    "        if Genome[mat_pat: mat_pat + Pattern_length] == Pattern:\n",
    "            positions.append(mat_pat)   \n",
    "    # your code here\n",
    "    return positions"
   ]
  },
  {
   "cell_type": "code",
   "execution_count": null,
   "metadata": {},
   "outputs": [],
   "source": []
  }
 ],
 "metadata": {
  "kernelspec": {
   "display_name": "Python 3",
   "language": "python",
   "name": "python3"
  },
  "language_info": {
   "codemirror_mode": {
    "name": "ipython",
    "version": 3
   },
   "file_extension": ".py",
   "mimetype": "text/x-python",
   "name": "python",
   "nbconvert_exporter": "python",
   "pygments_lexer": "ipython3",
   "version": "3.11.9"
  }
 },
 "nbformat": 4,
 "nbformat_minor": 2
}
